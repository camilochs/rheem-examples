{
 "cells": [
  {
   "cell_type": "markdown",
   "metadata": {},
   "source": [
    "# Prepare Rheem\n",
    "\n",
    "1. Load relevant modules\n",
    "2. Import relevant packages"
   ]
  },
  {
   "cell_type": "code",
   "execution_count": 1,
   "metadata": {
    "collapsed": false
   },
   "outputs": [
    {
     "name": "stdout",
     "output_type": "stream",
     "text": [
      "Adding 13 artifact(s)\n",
      "Adding 4 artifact(s)\n",
      "Adding 0 artifact(s)\n",
      "Adding 1 artifact(s)\n",
      "Adding 0 artifact(s)\n",
      "Adding 37 artifact(s)\n",
      "Adding 2 artifact(s)\n",
      "Adding 30 artifact(s)\n",
      "Adding 3 artifact(s)\n",
      "Adding 84 artifact(s)\n",
      "Adding 0 artifact(s)\n",
      "Adding 4 artifact(s)\n"
     ]
    },
    {
     "data": {
      "text/plain": [
       "\u001b[36mrheemVersion\u001b[0m: \u001b[32mString\u001b[0m = \u001b[32m\"0.2.0\"\u001b[0m"
      ]
     },
     "metadata": {},
     "output_type": "display_data"
    }
   ],
   "source": [
    "// Get the right repositories for SNAPSHOT versions.\n",
    "classpath.addRepository(\"file:///Users/basti/.m2/repository\")\n",
    "classpath.addRepository(\"https://oss.sonatype.org/content/repositories/snapshots\")\n",
    "\n",
    "val rheemVersion = \"0.2.0\"\n",
    "\n",
    "// Load Rheem's core functionality.\n",
    "classpath.add(\"org.qcri.rheem\" % \"rheem-core\" % rheemVersion)\n",
    "classpath.add(\"org.qcri.rheem\" % \"rheem-api\" % rheemVersion)\n",
    "\n",
    "// Load Rheem's platform plugins.\n",
    "classpath.add(\"org.qcri.rheem\" % \"rheem-java\" % rheemVersion)\n",
    "classpath.add(\"org.qcri.rheem\" % \"rheem-spark\" % rheemVersion)\n",
    "classpath.add(\"org.qcri.rheem\" % \"rheem-basic\" % rheemVersion)\n",
    "classpath.add(\"org.qcri.rheem\" % \"rheem-graphchi\" % rheemVersion)\n",
    "classpath.add(\"org.qcri.rheem\" % \"rheem-sqlite3\" % rheemVersion)\n",
    "\n",
    "// Load the platforms themselves.\n",
    "classpath.add(\"org.apache.hadoop\" % \"hadoop-common\" % \"2.2.0\")\n",
    "classpath.add(\"org.apache.hadoop\" % \"hadoop-hdfs\" % \"2.2.0\")\n",
    "classpath.add(\"org.apache.spark\" % \"spark-core_2.11\" % \"1.6.1\")\n",
    "\n",
    "// Load the profiling utility used by Rheem.\n",
    "classpath.add(\"de.hpi.isg\" % \"profiledb-store\" % \"0.1.1\")\n",
    "classpath.add(\"org.qcri.rheem\" % \"rheem-profiler\" % rheemVersion )"
   ]
  },
  {
   "cell_type": "code",
   "execution_count": 2,
   "metadata": {
    "collapsed": false
   },
   "outputs": [
    {
     "name": "stderr",
     "output_type": "stream",
     "text": [
      "SLF4J: Class path contains multiple SLF4J bindings.\n",
      "SLF4J: Found binding in [jar:file:/Users/basti/.coursier/cache/v1/https/repo1.maven.org/maven2/org/slf4j/slf4j-simple/1.7.13/slf4j-simple-1.7.13.jar!/org/slf4j/impl/StaticLoggerBinder.class]\n",
      "SLF4J: Found binding in [jar:file:/Users/basti/.coursier/cache/v1/https/repo1.maven.org/maven2/org/slf4j/slf4j-log4j12/1.6.1/slf4j-log4j12-1.6.1.jar!/org/slf4j/impl/StaticLoggerBinder.class]\n",
      "SLF4J: Found binding in [jar:file:/Users/basti/.m2/repository/org/slf4j/slf4j-log4j12/1.7.10/slf4j-log4j12-1.7.10.jar!/org/slf4j/impl/StaticLoggerBinder.class]\n",
      "SLF4J: See http://www.slf4j.org/codes.html#multiple_bindings for an explanation.\n",
      "SLF4J: Actual binding is of type [org.slf4j.impl.SimpleLoggerFactory]\n"
     ]
    },
    {
     "data": {
      "text/plain": [
       "\u001b[32mimport \u001b[36morg.qcri.rheem.api._\u001b[0m\n",
       "\u001b[32mimport \u001b[36morg.qcri.rheem.basic.data._\u001b[0m\n",
       "\u001b[32mimport \u001b[36morg.qcri.rheem.core.api._\u001b[0m\n",
       "\u001b[32mimport \u001b[36morg.qcri.rheem.core.util._\u001b[0m\n",
       "\u001b[32mimport \u001b[36morg.qcri.rheem.core.util.fs._\u001b[0m\n",
       "\u001b[32mimport \u001b[36morg.qcri.rheem.core.function.FunctionDescriptor._\u001b[0m\n",
       "\u001b[32mimport \u001b[36morg.qcri.rheem.core.optimizer.ProbabilisticDoubleInterval\u001b[0m\n",
       "\u001b[32mimport \u001b[36morg.qcri.rheem.core.plugin.Plugin\u001b[0m\n",
       "\u001b[32mimport \u001b[36morg.qcri.rheem.basic.RheemBasics\u001b[0m\n",
       "\u001b[32mimport \u001b[36morg.qcri.rheem.java.Java\u001b[0m\n",
       "\u001b[32mimport \u001b[36morg.qcri.rheem.spark.Spark\u001b[0m\n",
       "\u001b[32mimport \u001b[36morg.qcri.rheem.sqlite3.Sqlite3\u001b[0m\n",
       "\u001b[32mimport \u001b[36mde.hpi.isg.profiledb.store.model._\u001b[0m\n",
       "\u001b[32mimport \u001b[36mscala.collection.JavaConversions._\u001b[0m\n",
       "\u001b[32mimport \u001b[36mscala.collection.mutable\u001b[0m\n",
       "\u001b[36mcwd\u001b[0m: \u001b[32mString\u001b[0m = \u001b[32m\"/Users/basti/Work/Notebooks/boss-2016/cost-functions\"\u001b[0m\n",
       "\u001b[36mconfUrl\u001b[0m: \u001b[32mString\u001b[0m = \u001b[32m\"file:///Users/basti/Work/Notebooks/boss-2016/cost-functions/rheem.properties\"\u001b[0m\n",
       "\u001b[36mconf\u001b[0m: \u001b[32morg\u001b[0m.\u001b[32mqcri\u001b[0m.\u001b[32mrheem\u001b[0m.\u001b[32mcore\u001b[0m.\u001b[32mapi\u001b[0m.\u001b[32mConfiguration\u001b[0m = Configuration[file:///Users/basti/Work/Notebooks/boss-2016/cost-functions/rheem.properties]\n",
       "\u001b[36mprofileDbLocation\u001b[0m: \u001b[32mString\u001b[0m = \u001b[32m\"/Users/basti/Work/Notebooks/boss-2016/cost-functions/profiledb.json\"\u001b[0m"
      ]
     },
     "metadata": {},
     "output_type": "display_data"
    }
   ],
   "source": [
    "// Import relevant packages.\n",
    "import org.qcri.rheem.api._\n",
    "import org.qcri.rheem.basic.data._\n",
    "import org.qcri.rheem.core.api._\n",
    "import org.qcri.rheem.core.util._\n",
    "import org.qcri.rheem.core.util.fs._\n",
    "import org.qcri.rheem.core.function.FunctionDescriptor._\n",
    "import org.qcri.rheem.core.optimizer.ProbabilisticDoubleInterval\n",
    "import org.qcri.rheem.core.plugin.Plugin\n",
    "import org.qcri.rheem.basic.RheemBasics\n",
    "import org.qcri.rheem.java.Java\n",
    "import org.qcri.rheem.spark.Spark\n",
    "import org.qcri.rheem.sqlite3.Sqlite3\n",
    "import de.hpi.isg.profiledb.store.model._\n",
    "\n",
    "import scala.collection.JavaConversions._\n",
    "import scala.collection.mutable\n",
    "\n",
    "// Create a configuration.\n",
    "val cwd = \"/Users/basti/Work/Notebooks/boss-2016/cost-functions\"\n",
    "val confUrl = s\"file://$cwd/rheem.properties\"\n",
    "val conf = new Configuration(confUrl)\n",
    "val profileDbLocation = s\"$cwd/profiledb.json\""
   ]
  },
  {
   "cell_type": "markdown",
   "metadata": {},
   "source": [
    "## Preparation \n",
    "Now we define an experiment runner, that executes a wordcount plan on different file sizes and stores them into a ProfileDB."
   ]
  },
  {
   "cell_type": "code",
   "execution_count": 3,
   "metadata": {
    "collapsed": false
   },
   "outputs": [
    {
     "data": {
      "text/plain": [
       "defined \u001b[32mclass \u001b[36mWordCountExperimentRunner\u001b[0m"
      ]
     },
     "metadata": {},
     "output_type": "display_data"
    }
   ],
   "source": [
    "class WordCountExperimentRunner(profileDbLocation: String, \n",
    "                                plugins: Plugin*) {\n",
    "\n",
    "    var nextExperimentId = 0\n",
    "    \n",
    "    val pluginNames = plugins.map(_.getClass.getSimpleName).sorted.mkString(\",\")\n",
    "    \n",
    "    import org.qcri.rheem.core.profiling.ProfileDBs\n",
    "    val profileDB = ProfileDBs.createProfileDB\n",
    "    \n",
    "    def apply(configuration: Configuration, \n",
    "              tags: Seq[String], \n",
    "              inputUrls: Seq[String], \n",
    "              wordsPerLine: ProbabilisticDoubleInterval = null) {\n",
    "        val experiments = inputUrls.map { case inputUrl: String =>\n",
    "            // Prepare experiment.\n",
    "            val inputFileSize = FileSystems.getFileSize(inputUrl).getAsLong\n",
    "            val subject = new Subject(\"wordcount\", \"1.0\")\n",
    "                .addConfiguration(\"inputUrl\", inputUrl)\n",
    "                .addConfiguration(\"inputSize\", inputFileSize)\n",
    "                .addConfiguration(\"plugins\", this.pluginNames)\n",
    "            val experiment = new Experiment(f\"exp-${nextExperimentId%03d}\", subject, tags: _*)\n",
    "            this.nextExperimentId += 1\n",
    "            \n",
    "            // Run experiment.\n",
    "            val wordcounts = wordCount(configuration, inputUrl, wordsPerLine, experiment)\n",
    "            \n",
    "            // Handle results.\n",
    "            println(s\"Collected ${wordcounts.size} word counts in $inputUrl.\")\n",
    "            experiment\n",
    "        }\n",
    "        \n",
    "        // Persist experiments.\n",
    "        this.profileDB.append(new java.io.File(profileDbLocation), experiments: _*)\n",
    "    }\n",
    "    \n",
    "    private def wordCount(configuration: Configuration, \n",
    "                          inputUrl: String, \n",
    "                          wordsPerLine: ProbabilisticDoubleInterval, \n",
    "                          experiment: Experiment) = {\n",
    "        val rheemContext = new RheemContext(configuration)\n",
    "        plugins.foreach(rheemContext.withPlugin)\n",
    "        val planBuilder = new PlanBuilder(rheemContext)\n",
    "\n",
    "        planBuilder\n",
    "          // Do some set up.\n",
    "          .withJobName(s\"WordCount ($inputUrl)\")\n",
    "          .withUdfJarsOf(this.getClass)\n",
    "          .withExperiment(experiment)\n",
    "\n",
    "          // Read the text file.\n",
    "          .readTextFile(inputUrl).withName(\"Load file\")\n",
    "\n",
    "          // Split each line by non-word characters.\n",
    "          .flatMap(_.split(\"\\\\W+\"), selectivity = wordsPerLine).withName(\"Split words\")\n",
    "\n",
    "          // Filter empty tokens.\n",
    "          .filter(_.nonEmpty, selectivity = 0.99).withName(\"Filter empty words\")\n",
    "\n",
    "          // Attach counter to each word.\n",
    "          .map(word => (word.toLowerCase, 1)).withName(\"To lower case, add counter\")\n",
    "\n",
    "          // Sum up counters for every word.\n",
    "          .reduceByKey(_._1, (c1, c2) => (c1._1, c1._2 + c2._2)).withName(\"Add counters\")\n",
    "          .withCardinalityEstimator((in: Long) => math.round(in * 0.01))\n",
    "\n",
    "          // Execute the plan and collect the results.\n",
    "          .collect()\n",
    "    }\n",
    "}"
   ]
  },
  {
   "cell_type": "code",
   "execution_count": 4,
   "metadata": {
    "collapsed": false
   },
   "outputs": [
    {
     "data": {
      "text/plain": [
       "\u001b[36minputUrls\u001b[0m: \u001b[32mSeq\u001b[0m[\u001b[32mString\u001b[0m] = \u001b[33mList\u001b[0m(\n",
       "  \u001b[32m\"file:///Users/basti/Work/Data/text/odyssey.txt\"\u001b[0m,\n",
       "  \u001b[32m\"file:///Users/basti/Work/Data/text/odyssey.sf3.txt\"\u001b[0m,\n",
       "  \u001b[32m\"file:///Users/basti/Work/Data/text/odyssey.sf10.txt\"\u001b[0m,\n",
       "  \u001b[32m\"file:///Users/basti/Work/Data/text/odyssey.sf30.txt\"\u001b[0m,\n",
       "  \u001b[32m\"file:///Users/basti/Work/Data/text/odyssey.sf100.txt\"\u001b[0m\n",
       ")\n",
       "\u001b[36mwordCountOnJava\u001b[0m: \u001b[32mWordCountExperimentRunner\u001b[0m = cmd2$$user$WordCountExperimentRunner@29bbfee8"
      ]
     },
     "metadata": {},
     "output_type": "display_data"
    }
   ],
   "source": [
    "val inputUrls = Seq(\"file:///Users/basti/Work/Data/text/odyssey.txt\", \n",
    "                    \"file:///Users/basti/Work/Data/text/odyssey.sf3.txt\", \n",
    "                    \"file:///Users/basti/Work/Data/text/odyssey.sf10.txt\",\n",
    "                    \"file:///Users/basti/Work/Data/text/odyssey.sf30.txt\", \n",
    "                    \"file:///Users/basti/Work/Data/text/odyssey.sf100.txt\")\n",
    "var wordCountOnJava = new WordCountExperimentRunner(profileDbLocation, Java.basicPlugin)"
   ]
  },
  {
   "cell_type": "markdown",
   "metadata": {},
   "source": [
    "## Experiments\n",
    "\n",
    "Now, we run the various experiments - the experiment results are visualized in the `wordcount-visualization` notebook."
   ]
  },
  {
   "cell_type": "code",
   "execution_count": 7,
   "metadata": {
    "collapsed": false
   },
   "outputs": [
    {
     "name": "stdout",
     "output_type": "stream",
     "text": [
      "Collected 7848 word counts in file:///Users/basti/Work/Data/text/odyssey.txt.\n",
      "Collected 7848 word counts in file:///Users/basti/Work/Data/text/odyssey.sf3.txt.\n",
      "Collected 7848 word counts in file:///Users/basti/Work/Data/text/odyssey.sf10.txt.\n",
      "Collected 7848 word counts in file:///Users/basti/Work/Data/text/odyssey.sf30.txt.\n",
      "Collected 7848 word counts in file:///Users/basti/Work/Data/text/odyssey.sf100.txt.\n"
     ]
    },
    {
     "data": {
      "text/plain": []
     },
     "metadata": {},
     "output_type": "display_data"
    }
   ],
   "source": [
    "wordCountOnJava(conf, Seq(\"attempt-1\"), inputUrls)"
   ]
  },
  {
   "cell_type": "code",
   "execution_count": 8,
   "metadata": {
    "collapsed": false
   },
   "outputs": [
    {
     "name": "stdout",
     "output_type": "stream",
     "text": [
      "Collected 7848 word counts in file:///Users/basti/Work/Data/text/odyssey.txt.\n",
      "Collected 7848 word counts in file:///Users/basti/Work/Data/text/odyssey.sf3.txt.\n",
      "Collected 7848 word counts in file:///Users/basti/Work/Data/text/odyssey.sf10.txt.\n",
      "Collected 7848 word counts in file:///Users/basti/Work/Data/text/odyssey.sf30.txt.\n",
      "Collected 7848 word counts in file:///Users/basti/Work/Data/text/odyssey.sf100.txt.\n"
     ]
    },
    {
     "data": {
      "text/plain": []
     },
     "metadata": {},
     "output_type": "display_data"
    }
   ],
   "source": [
    "wordCountOnJava(conf, Seq(\"attempt-2\"), inputUrls, 10)"
   ]
  },
  {
   "cell_type": "markdown",
   "metadata": {},
   "source": [
    "It turns out, that our estimates are off - however, we can learn cost functions from the so far executed experiments. The output will can be directly copied into a `.properties` file. "
   ]
  },
  {
   "cell_type": "code",
   "execution_count": 9,
   "metadata": {
    "collapsed": false
   },
   "outputs": [
    {
     "name": "stdout",
     "output_type": "stream",
     "text": [
      "Loaded 20 execution records with 6 execution operator types and 0 platform overheads.\n",
      "Optimizing 15 variables on 20 partial executions (e.g., [OperatorExecution[JavaTextFileSource[0->1, id=1b313ed0]], OperatorExecution[JavaFlatMap[1->1, id=4dd4ab2e]], OperatorExecution[JavaFilter[1->1, id=48cce148]], OperatorExecution[JavaMap[1->1, id=54744bc5]], OperatorExecution[JavaReduceBy[1->1, id=46a13825]]]).\n",
      "Fittest individual of generation 0 (0): 0.0000\n",
      "Fittest individual of generation 2,000 (2,000): 0.7826\n",
      "Fittest individual of generation 4,000 (4,000): 0.7838\n",
      "Final fittest individual of generation 5,000 (5,000): 0.7838\n",
      "\n",
      "=== Stats for fittest individual (fitness=0.7838)\n",
      "\n",
      "Training data vs. measured\n",
      "==========================\n",
      "Actual   0:00:07.396 | Estimated:                                    (0:00:02.576 .. 0:00:28.184, p=1.63%) |   5 operators | [JavaTextFileSource, JavaFlatMapOperator, JavaFilterOperator, JavaMapOperator, JavaReduceByOperator]\n",
      "Actual   0:00:05.078 | Estimated:                                    (0:00:00.093 .. 0:04:37.440, p=1.07%) |   5 operators | [JavaTextFileSource, JavaFlatMapOperator, JavaFilterOperator, JavaMapOperator, JavaReduceByOperator]\n",
      "Actual   0:00:01.884 | Estimated:                                    (0:00:00.777 .. 0:00:08.459, p=1.63%) |   5 operators | [JavaTextFileSource, JavaFlatMapOperator, JavaFilterOperator, JavaMapOperator, JavaReduceByOperator]\n",
      "Actual   0:00:01.491 | Estimated:                                    (0:00:00.031 .. 0:01:23.235, p=1.07%) |   5 operators | [JavaTextFileSource, JavaFlatMapOperator, JavaFilterOperator, JavaMapOperator, JavaReduceByOperator]\n",
      "Actual   0:00:00.700 | Estimated:                                    (0:00:00.016 .. 0:00:27.751, p=1.07%) |   5 operators | [JavaTextFileSource, JavaFlatMapOperator, JavaFilterOperator, JavaMapOperator, JavaReduceByOperator]\n",
      "Actual   0:00:00.640 | Estimated:                                    (0:00:00.266 .. 0:00:02.827, p=1.63%) |   5 operators | [JavaTextFileSource, JavaFlatMapOperator, JavaFilterOperator, JavaMapOperator, JavaReduceByOperator]\n",
      "Actual   0:00:00.209 | Estimated:                                    (0:00:00.083 .. 0:00:00.852, p=1.63%) |   5 operators | [JavaTextFileSource, JavaFlatMapOperator, JavaFilterOperator, JavaMapOperator, JavaReduceByOperator]\n",
      "Actual   0:00:00.165 | Estimated:                                    (0:00:00.010 .. 0:00:08.330, p=1.07%) |   5 operators | [JavaTextFileSource, JavaFlatMapOperator, JavaFilterOperator, JavaMapOperator, JavaReduceByOperator]\n",
      "Actual   0:00:00.060 | Estimated:                                    (0:00:00.033 .. 0:00:00.290, p=1.63%) |   5 operators | [JavaTextFileSource, JavaFlatMapOperator, JavaFilterOperator, JavaMapOperator, JavaReduceByOperator]\n",
      "Actual   0:00:00.058 | Estimated:                                    (0:00:00.009 .. 0:00:02.794, p=1.07%) |   5 operators | [JavaTextFileSource, JavaFlatMapOperator, JavaFilterOperator, JavaMapOperator, JavaReduceByOperator]\n",
      "Actual   0:00:00.001 | Estimated:                                  (0:00:00.001 .. 0:00:00.001, p=100.00%) |   1 operators | [JavaLocalCallbackSink]\n",
      "Actual   0:00:00.001 | Estimated:                                  (0:00:00.001 .. 0:00:00.001, p=100.00%) |   1 operators | [JavaLocalCallbackSink]\n",
      "Actual   0:00:00.001 | Estimated:                                  (0:00:00.001 .. 0:00:00.001, p=100.00%) |   1 operators | [JavaLocalCallbackSink]\n",
      "Actual   0:00:00.001 | Estimated:                                  (0:00:00.001 .. 0:00:00.001, p=100.00%) |   1 operators | [JavaLocalCallbackSink]\n",
      "Actual   0:00:00.001 | Estimated:                                  (0:00:00.001 .. 0:00:00.001, p=100.00%) |   1 operators | [JavaLocalCallbackSink]\n",
      "Actual   0:00:00.000 | Estimated:                                  (0:00:00.001 .. 0:00:00.001, p=100.00%) |   1 operators | [JavaLocalCallbackSink]\n",
      "Actual   0:00:00.000 | Estimated:                                  (0:00:00.001 .. 0:00:00.001, p=100.00%) |   1 operators | [JavaLocalCallbackSink]\n",
      "Actual   0:00:00.000 | Estimated:                                  (0:00:00.001 .. 0:00:00.001, p=100.00%) |   1 operators | [JavaLocalCallbackSink]\n",
      "Actual   0:00:00.000 | Estimated:                                  (0:00:00.001 .. 0:00:00.001, p=100.00%) |   1 operators | [JavaLocalCallbackSink]\n",
      "Actual   0:00:00.000 | Estimated:                                  (0:00:00.001 .. 0:00:00.001, p=100.00%) |   1 operators | [JavaLocalCallbackSink]\n",
      "\n",
      "Configuration file\n",
      "==================\n",
      "rheem.java.localcallbacksink.load = {\\\n",
      " \"in\":1,\\\n",
      " \"out\":0,\\\n",
      " \"cpu\":\"${10.995087370687273*in0 + 19.558911745187544}\",\\\n",
      " \"ram\":\"0\",\\\n",
      " \"disk\":\"0\",\\\n",
      " \"net\":\"0\",\\\n",
      " \"p\":0.9\\\n",
      "}\n",
      "rheem.java.flatmap.load = {\\\n",
      " \"in\":1,\\\n",
      " \"out\":1,\\\n",
      " \"cpu\":\"${0.02844368353279063*in0 + 0.6430454227817168*out0 + 4.969851702148823}\",\\\n",
      " \"ram\":\"0\",\\\n",
      " \"disk\":\"0\",\\\n",
      " \"net\":\"0\",\\\n",
      " \"p\":0.9\\\n",
      "}\n",
      "rheem.java.textfilesource.load = {\\\n",
      " \"in\":0,\\\n",
      " \"out\":1,\\\n",
      " \"cpu\":\"${5.353189036127094*out0 + 2464808.2832813226}\",\\\n",
      " \"ram\":\"0\",\\\n",
      " \"disk\":\"0\",\\\n",
      " \"net\":\"0\",\\\n",
      " \"p\":0.9\\\n",
      "}\n",
      "rheem.java.filter.load = {\\\n",
      " \"in\":1,\\\n",
      " \"out\":1,\\\n",
      " \"cpu\":\"${0.8430058704813473*in0 + 0.8655852558195911*out0 + 397555.7661284518}\",\\\n",
      " \"ram\":\"0\",\\\n",
      " \"disk\":\"0\",\\\n",
      " \"net\":\"0\",\\\n",
      " \"p\":0.9\\\n",
      "}\n",
      "rheem.java.reduceby.load = {\\\n",
      " \"in\":1,\\\n",
      " \"out\":1,\\\n",
      " \"cpu\":\"${0.48273908897321705*in0 + 287.3515989948201*out0 + 29.546002817689722}\",\\\n",
      " \"ram\":\"0\",\\\n",
      " \"disk\":\"0\",\\\n",
      " \"net\":\"0\",\\\n",
      " \"p\":0.9\\\n",
      "}\n",
      "rheem.java.map.load = {\\\n",
      " \"in\":1,\\\n",
      " \"out\":1,\\\n",
      " \"cpu\":\"${0.1583585184908956*in0 + 879295.0311423754}\",\\\n",
      " \"ram\":\"0\",\\\n",
      " \"disk\":\"0\",\\\n",
      " \"net\":\"0\",\\\n",
      " \"p\":0.9\\\n",
      "}\n"
     ]
    },
    {
     "data": {
      "text/plain": []
     },
     "metadata": {},
     "output_type": "display_data"
    }
   ],
   "source": [
    "new org.qcri.rheem.profiler.log.GeneticOptimizerApp(conf.fork).run()"
   ]
  },
  {
   "cell_type": "code",
   "execution_count": 10,
   "metadata": {
    "collapsed": false
   },
   "outputs": [
    {
     "data": {
      "text/plain": []
     },
     "metadata": {},
     "output_type": "display_data"
    }
   ],
   "source": [
    "conf.load(s\"file://$cwd/cost-functions.properties\")"
   ]
  },
  {
   "cell_type": "code",
   "execution_count": 11,
   "metadata": {
    "collapsed": false
   },
   "outputs": [
    {
     "name": "stdout",
     "output_type": "stream",
     "text": [
      "Collected 7848 word counts in file:///Users/basti/Work/Data/text/odyssey.txt.\n",
      "Collected 7848 word counts in file:///Users/basti/Work/Data/text/odyssey.sf3.txt.\n",
      "Collected 7848 word counts in file:///Users/basti/Work/Data/text/odyssey.sf10.txt.\n",
      "Collected 7848 word counts in file:///Users/basti/Work/Data/text/odyssey.sf30.txt.\n",
      "Collected 7848 word counts in file:///Users/basti/Work/Data/text/odyssey.sf100.txt.\n"
     ]
    },
    {
     "data": {
      "text/plain": []
     },
     "metadata": {},
     "output_type": "display_data"
    }
   ],
   "source": [
    "wordCountOnJava(conf, Seq(\"attempt-3\"), inputUrls, 10)"
   ]
  },
  {
   "cell_type": "code",
   "execution_count": null,
   "metadata": {
    "collapsed": true
   },
   "outputs": [],
   "source": []
  }
 ],
 "metadata": {
  "kernelspec": {
   "display_name": "Scala 2.11",
   "language": "scala211",
   "name": "scala211"
  },
  "language_info": {
   "codemirror_mode": "text/x-scala",
   "file_extension": ".scala",
   "mimetype": "text/x-scala",
   "name": "scala211",
   "pygments_lexer": "scala",
   "version": "2.11.7"
  }
 },
 "nbformat": 4,
 "nbformat_minor": 0
}
